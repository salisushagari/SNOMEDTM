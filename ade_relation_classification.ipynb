{
 "cells": [
  {
   "cell_type": "code",
   "execution_count": 1,
   "metadata": {},
   "outputs": [],
   "source": [
    "import unidecode\n",
    "import os\n",
    "import pandas as pd\n",
    "import numpy as np\n",
    "data_path = \"./\"\n",
    "texts, labels = [], []\n",
    "with open(os.path.join(data_path, 'DRUG-AE.rel')) as f:\n",
    "    for line in f:\n",
    "        pubmed_id, text = line.strip().split('|')[:2]\n",
    "        texts.append(text)\n",
    "        labels.append(1)\n",
    "\n",
    "with open(os.path.join(data_path, 'ADE-NEG.txt')) as f:\n",
    "    for line in f:\n",
    "        pubmed_id, neg = line.strip().split(' ')[:2]\n",
    "        text = ' '.join(line.strip().split(' ')[2:])\n",
    "        texts.append(text)\n",
    "        labels.append(0)\n",
    "\n",
    "np.random.seed(0)\n",
    "# Shuffle the data as Keras won't shuffle validation data.\n",
    "\n",
    "idx = np.random.permutation(len(labels))\n",
    "labels = np.asarray(labels)[idx]\n",
    "texts = np.asarray(texts, dtype='str')[idx]"
   ]
  },
  {
   "cell_type": "code",
   "execution_count": null,
   "metadata": {},
   "outputs": [],
   "source": [
    "from transformers import AutoTokenizer\n",
    "tokenizer = AutoTokenizer.from_pretrained('bert-base-uncased')"
   ]
  },
  {
   "cell_type": "code",
   "execution_count": 3,
   "metadata": {},
   "outputs": [],
   "source": [
    "texts= texts.tolist()"
   ]
  },
  {
   "cell_type": "code",
   "execution_count": null,
   "metadata": {},
   "outputs": [],
   "source": [
    "from tqdm.auto import tqdm\n",
    "processed_data = []\n",
    "for i in tqdm(range(len(texts))):\n",
    "  text = texts[i]\n",
    "  label = labels[i]\n",
    "\n",
    "  encodings = tokenizer(text, padding=\"max_length\", truncation=True, max_length=512,\n",
    "                      add_special_tokens=True, # Add [CLS] and [SEP] tokens\n",
    "                      )\n",
    "  encodings['label'] = label\n",
    "  encodings['text'] = text\n",
    "  processed_data.append(encodings)"
   ]
  },
  {
   "cell_type": "code",
   "execution_count": 5,
   "metadata": {},
   "outputs": [],
   "source": [
    "from sklearn.model_selection import train_test_split\n",
    "import pandas as pd\n",
    "new_df = pd.DataFrame(processed_data)\n",
    "\n",
    "train_df, valid_df = train_test_split(\n",
    "    new_df,\n",
    "    test_size=0.2,\n",
    "    random_state=2024\n",
    ")"
   ]
  },
  {
   "cell_type": "code",
   "execution_count": 6,
   "metadata": {},
   "outputs": [],
   "source": [
    "import pyarrow as pa\n",
    "from datasets import Dataset\n",
    "\n",
    "train_hg = Dataset(pa.Table.from_pandas(train_df))\n",
    "valid_hg = Dataset(pa.Table.from_pandas(valid_df))"
   ]
  },
  {
   "cell_type": "code",
   "execution_count": 7,
   "metadata": {},
   "outputs": [],
   "source": [
    "labels = labels.tolist()"
   ]
  },
  {
   "cell_type": "code",
   "execution_count": null,
   "metadata": {},
   "outputs": [],
   "source": [
    "num=list(set(labels))\n",
    "len(num)"
   ]
  },
  {
   "cell_type": "code",
   "execution_count": null,
   "metadata": {},
   "outputs": [],
   "source": [
    "from transformers import PreTrainedTokenizerFast, PreTrainedModel, AutoTokenizer, AutoModelForSequenceClassification\n",
    "model = AutoModelForSequenceClassification.from_pretrained(\"./SNOMEDTM\")"
   ]
  },
  {
   "cell_type": "code",
   "execution_count": 25,
   "metadata": {},
   "outputs": [],
   "source": [
    "from sklearn.metrics import accuracy_score, precision_recall_fscore_support\n",
    "import numpy as np\n",
    "\n",
    "def compute_metrics(eval_pred):\n",
    "    logits, labels = eval_pred\n",
    "    predictions = np.argmax(logits, axis=-1)\n",
    "    accuracy = accuracy_score(labels, predictions)\n",
    "    precision, recall, f_score, support = precision_recall_fscore_support(labels, predictions, average='weighted')\n",
    "    return {'accuracy': accuracy, 'precision': precision, 'recall': recall, 'f-score': f_score, 'suppor': support}"
   ]
  },
  {
   "cell_type": "code",
   "execution_count": null,
   "metadata": {},
   "outputs": [],
   "source": [
    "from transformers import TrainingArguments, Trainer\n",
    "# Define training arguments\n",
    "training_args = TrainingArguments(\n",
    "    output_dir=\"./\",\n",
    "    evaluation_strategy=\"epoch\",\n",
    "    per_device_train_batch_size=4,\n",
    "    per_device_eval_batch_size=4,\n",
    "    num_train_epochs=10,  # Set the number of epochs\n",
    "    #save_strategy=\"steps\",  # Save checkpoints every step\n",
    "    #save_steps=10000,  # Save checkpoints every 1000 steps\n",
    "    logging_dir=\"./logs\",  # Directory for storing logs\n",
    ")\n",
    "\n",
    "# Initialize the Trainer\n",
    "trainer = Trainer(\n",
    "    model=model,\n",
    "    args=training_args,\n",
    "    train_dataset=train_hg,\n",
    "    eval_dataset=valid_hg,\n",
    "    tokenizer=tokenizer,\n",
    "    compute_metrics=compute_metrics,\n",
    ")\n",
    "\n",
    "# Start training and optionally resume from checkpoint\n",
    "trainer.train()"
   ]
  },
  {
   "cell_type": "code",
   "execution_count": null,
   "metadata": {},
   "outputs": [],
   "source": [
    "trainer.evaluate()"
   ]
  },
  {
   "cell_type": "code",
   "execution_count": 14,
   "metadata": {},
   "outputs": [],
   "source": [
    "import torch\n",
    "import torch.nn.functional as F\n",
    "device = \"cuda\" if torch.cuda.is_available() else \"cpu\""
   ]
  },
  {
   "cell_type": "code",
   "execution_count": 15,
   "metadata": {},
   "outputs": [],
   "source": [
    "def get_prediction(text):\n",
    "    encoding = tokenizer(text, return_tensors=\"pt\", padding=\"max_length\", truncation=True, max_length=512,\n",
    "                             add_special_tokens=True)\n",
    "    encoding = {k: v.to(device) for k, v in encoding.items()}\n",
    "\n",
    "    with torch.no_grad():\n",
    "        outputs = model(**encoding)\n",
    "        logits = outputs.logits\n",
    "        probs = F.softmax(logits, dim=1).squeeze().cpu().numpy()\n",
    "\n",
    "    label = np.argmax(probs, axis=-1)\n",
    "    return {\n",
    "        'label': label,\n",
    "        'probability': max(probs)\n",
    "    }"
   ]
  },
  {
   "cell_type": "code",
   "execution_count": null,
   "metadata": {},
   "outputs": [],
   "source": [
    "# Lists to store predictions and probabilities\n",
    "y_pred = []\n",
    "probability = []\n",
    "\n",
    "# Iterate over the validation DataFrame\n",
    "for i in tqdm(range(len(valid_df['text']))):\n",
    "    pred = get_prediction(valid_df['text'].iloc[i])\n",
    "    label = pred['label']\n",
    "    prob = pred['probability']\n",
    "    y_pred.append(label)\n",
    "    probability.append(prob)\n",
    "\n",
    "# Add predictions and probabilities to the DataFrame\n",
    "valid_df['predictions'] = y_pred\n",
    "valid_df['probabilities'] = probability"
   ]
  },
  {
   "cell_type": "code",
   "execution_count": 17,
   "metadata": {},
   "outputs": [],
   "source": [
    "y_prediction = valid_df['predictions']\n",
    "y_true = valid_df['label']"
   ]
  },
  {
   "cell_type": "code",
   "execution_count": 18,
   "metadata": {},
   "outputs": [],
   "source": [
    "from sklearn.metrics import accuracy_score, precision_score, recall_score, f1_score, roc_auc_score, roc_curve, confusion_matrix, ConfusionMatrixDisplay, classification_report\n",
    "from sklearn.model_selection import cross_val_score, StratifiedKFold\n",
    "import matplotlib.pyplot as plt\n",
    "\n",
    "def results(model_name, y_pred, y_test, classes, multi_class=False, show_cm=False, show_roc=False):\n",
    "    if multi_class:\n",
    "        accuracy = round(accuracy_score(y_pred, y_test) * 100, 2)\n",
    "        precision = round(precision_score(y_pred, y_test, average='macro') * 100, 2)\n",
    "        recall = round(recall_score(y_pred, y_test, average='macro') * 100, 2)\n",
    "        f1_scr = round(f1_score(y_pred, y_test, average='macro') * 100, 2)\n",
    "    else:\n",
    "        accuracy = round(accuracy_score(y_pred, y_test) * 100, 2)\n",
    "        precision = round(precision_score(y_pred, y_test) * 100, 2)\n",
    "        recall = round(recall_score(y_pred, y_test) * 100, 2)\n",
    "        f1_scr = round(f1_score(y_pred, y_test) * 100, 2)\n",
    "\n",
    "    # Calculate AUC-ROC score\n",
    "    auc_roc_score = roc_auc_score(y_test, y_pred)\n",
    "\n",
    "    # Calculate TP, FP, TN, FN\n",
    "    cm = confusion_matrix(y_test, y_pred)\n",
    "    tn, fp, fn, tp = cm.ravel()\n",
    "\n",
    "    # Classification error\n",
    "    classification_error = (fp + fn) / (tp + tn + fp + fn)\n",
    "\n",
    "    print(\"Accuracy: {}%\".format(accuracy))\n",
    "    print(\"Precision: {}%\".format(precision))\n",
    "    print(\"Recall: {}%\".format(recall))\n",
    "    print(\"F1-Score: {}%\".format(f1_scr))\n",
    "    #print(\"AUC-ROC Score: {}%\".format(auc_roc_score))\n",
    "    print(\"True Positive (TP):\", tp)\n",
    "    print(\"False Positive (FP):\", fp)\n",
    "    print(\"True Negative (TN):\", tn)\n",
    "    print(\"False Negative (FN):\", fn)\n",
    "    print(\"Classification Error: {}%\".format(classification_error*100))\n",
    "\n",
    "    if show_cm:\n",
    "        print(\"Classification Report:\")\n",
    "        print(classification_report(y_test, y_pred, target_names=classes))\n",
    "        print()\n",
    "        print(\"Confusion Matrix:\")\n",
    "        fig, ax = plt.subplots(figsize=(7, 5))\n",
    "        ConfusionMatrixDisplay.from_predictions(y_pred, y_test,\n",
    "                                                  ax=ax,\n",
    "                                                  display_labels=classes,\n",
    "                                                  xticks_rotation='vertical')\n",
    "        # plt.savefig(f\"{save_results}/{model.__class__.__name__}_confusion_matrix.png\", bbox_inches='tight')\n",
    "        plt.show()\n",
    "\n",
    "    if show_roc:\n",
    "        # Plot ROC curve\n",
    "        fpr, tpr, _ = roc_curve(y_test, y_pred)\n",
    "        plt.figure(figsize=(8, 6))\n",
    "        plt.plot(fpr, tpr, color='darkorange', lw=2, label='ROC curve (area = %0.2f)' % auc_roc_score)\n",
    "        plt.plot([0, 1], [0, 1], color='navy', lw=2, linestyle='--')\n",
    "        plt.xlabel('False Positive Rate')\n",
    "        plt.ylabel('True Positive Rate')\n",
    "        plt.title('Receiver Operating Characteristic (ROC) Curve')\n",
    "        plt.legend(loc='lower right')\n",
    "        # plt.savefig(f\"{save_results}/{model.__class__.__name__}_auc_roc.png\", bbox_inches='tight')\n",
    "        plt.show()\n",
    "\n",
    "    return pd.DataFrame([{\n",
    "        'Model': model_name,\n",
    "        'Accuracy': accuracy,\n",
    "        'Precision': precision,\n",
    "        'Recall': recall,\n",
    "        'F1': f1_scr,\n",
    "        'AUC-ROC Score': auc_roc_score,\n",
    "        'True Positive (TP)': tp,\n",
    "        'False Positive (FP)': fp,\n",
    "        'True Negative (TN)': tn,\n",
    "        'False Negative (FN)': fn,\n",
    "        'Classification Error': round(classification_error*100,2),\n",
    "    }])"
   ]
  },
  {
   "cell_type": "code",
   "execution_count": null,
   "metadata": {},
   "outputs": [],
   "source": [
    "classes = ['ADE-REL', 'ADE-NO-REL']\n",
    "res = results(\"SNOMEDTM_FINETUNING\", y_prediction, y_true, classes, multi_class=False, show_cm=True, show_roc=False)\n",
    "res"
   ]
  }
 ],
 "metadata": {
  "kernelspec": {
   "display_name": "Python 3",
   "language": "python",
   "name": "python3"
  },
  "language_info": {
   "codemirror_mode": {
    "name": "ipython",
    "version": 3
   },
   "file_extension": ".py",
   "mimetype": "text/x-python",
   "name": "python",
   "nbconvert_exporter": "python",
   "pygments_lexer": "ipython3",
   "version": "3.10.8"
  }
 },
 "nbformat": 4,
 "nbformat_minor": 2
}
